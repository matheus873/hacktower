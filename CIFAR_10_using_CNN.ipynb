{
  "nbformat": 4,
  "nbformat_minor": 0,
  "metadata": {
    "colab": {
      "name": "CIFAR-10 using CNN",
      "provenance": []
    },
    "kernelspec": {
      "name": "python3",
      "display_name": "Python 3"
    },
    "accelerator": "GPU"
  },
  "cells": [
    {
      "cell_type": "code",
      "metadata": {
        "id": "E2q5LczOI-th",
        "outputId": "70abe336-4c9b-48f5-c8e7-a6e0b75f3b65",
        "colab": {
          "base_uri": "https://localhost:8080/",
          "height": 53
        }
      },
      "source": [
        "import numpy as np \n",
        "import pandas as pd \n",
        "import matplotlib.pyplot as plt\n",
        "import seaborn"
      ],
      "execution_count": null,
      "outputs": [
        {
          "output_type": "stream",
          "text": [
            "/usr/local/lib/python3.6/dist-packages/statsmodels/tools/_testing.py:19: FutureWarning: pandas.util.testing is deprecated. Use the functions in the public API at pandas.testing instead.\n",
            "  import pandas.util.testing as tm\n"
          ],
          "name": "stderr"
        }
      ]
    },
    {
      "cell_type": "code",
      "metadata": {
        "id": "SLCWCP_rJKrc",
        "outputId": "1fd75f86-21b3-4440-85b8-7e1456053b9c",
        "colab": {
          "base_uri": "https://localhost:8080/",
          "height": 35
        }
      },
      "source": [
        "from keras.datasets import cifar10"
      ],
      "execution_count": null,
      "outputs": [
        {
          "output_type": "stream",
          "text": [
            "Using TensorFlow backend.\n"
          ],
          "name": "stderr"
        }
      ]
    },
    {
      "cell_type": "code",
      "metadata": {
        "id": "Mv7rAqTMJLJg",
        "outputId": "38699a1e-e459-4b90-e882-5d3a780a3f81",
        "colab": {
          "base_uri": "https://localhost:8080/",
          "height": 35
        }
      },
      "source": [
        "import tensorflow as tf\n",
        "print(tf.__version__)\n"
      ],
      "execution_count": null,
      "outputs": [
        {
          "output_type": "stream",
          "text": [
            "2.2.0\n"
          ],
          "name": "stdout"
        }
      ]
    },
    {
      "cell_type": "code",
      "metadata": {
        "id": "6W5ZXW-yJLMn",
        "outputId": "c821e63b-0c46-44c4-9a65-bf9d77954a70",
        "colab": {
          "base_uri": "https://localhost:8080/",
          "height": 53
        }
      },
      "source": [
        "(X_train, y_train) , (X_test, y_test) = cifar10.load_data()"
      ],
      "execution_count": null,
      "outputs": [
        {
          "output_type": "stream",
          "text": [
            "Downloading data from https://www.cs.toronto.edu/~kriz/cifar-10-python.tar.gz\n",
            "170500096/170498071 [==============================] - 11s 0us/step\n"
          ],
          "name": "stdout"
        }
      ]
    },
    {
      "cell_type": "code",
      "metadata": {
        "id": "CIAjpqBOJLPU",
        "outputId": "673baa55-9546-4065-ce53-ebc8340adab8",
        "colab": {
          "base_uri": "https://localhost:8080/",
          "height": 89
        }
      },
      "source": [
        "print('X_train shape - ',X_train.shape)\n",
        "print('X_test shape - ',X_test.shape)\n",
        "print('y_train shape - ',y_train.shape)\n",
        "print('y_test shape - ',y_test.shape)"
      ],
      "execution_count": null,
      "outputs": [
        {
          "output_type": "stream",
          "text": [
            "X_train shape -  (50000, 32, 32, 3)\n",
            "X_test shape -  (10000, 32, 32, 3)\n",
            "y_train shape -  (50000, 1)\n",
            "y_test shape -  (10000, 1)\n"
          ],
          "name": "stdout"
        }
      ]
    },
    {
      "cell_type": "code",
      "metadata": {
        "id": "aKVrxC6DJLSC"
      },
      "source": [
        "X_train = X_train.astype('float32')\n",
        "X_test = X_test.astype('float32')\n",
        "X_train = X_train/255\n",
        "X_test = X_test/255"
      ],
      "execution_count": null,
      "outputs": []
    },
    {
      "cell_type": "code",
      "metadata": {
        "id": "moZ0oHOiJLU5"
      },
      "source": [
        "import keras\n",
        "y_train = keras.utils.to_categorical(y_train, 10)\n",
        "y_test = keras.utils.to_categorical(y_test, 10)"
      ],
      "execution_count": null,
      "outputs": []
    },
    {
      "cell_type": "code",
      "metadata": {
        "id": "APjEohrWJLX8",
        "outputId": "9dd163ee-e92c-4f71-8368-fb155a27ad41",
        "colab": {
          "base_uri": "https://localhost:8080/",
          "height": 35
        }
      },
      "source": [
        "Input_shape = X_train.shape[1:]\n",
        "Input_shape"
      ],
      "execution_count": null,
      "outputs": [
        {
          "output_type": "execute_result",
          "data": {
            "text/plain": [
              "(32, 32, 3)"
            ]
          },
          "metadata": {
            "tags": []
          },
          "execution_count": 8
        }
      ]
    },
    {
      "cell_type": "code",
      "metadata": {
        "id": "g7GZ714jJLa7"
      },
      "source": [
        "import tensorflow.keras as keras\n",
        "from tensorflow.keras.models import Sequential\n",
        "from tensorflow.keras.layers import Conv2D,Dense,AveragePooling2D,MaxPooling2D, Flatten, Dropout\n",
        "from tensorflow.keras.optimizers import Adam\n",
        "from tensorflow.keras.callbacks import TensorBoard\n",
        "from tensorflow.keras.layers import BatchNormalization"
      ],
      "execution_count": null,
      "outputs": []
    },
    {
      "cell_type": "code",
      "metadata": {
        "id": "CDHM6R0iJLd6"
      },
      "source": [
        "cnn_model = Sequential()\n",
        "cnn_model.add(Conv2D(filters = 32, kernel_size = (3,3), activation = 'relu', kernel_initializer='he_uniform', padding='same',input_shape = Input_shape))\n",
        "cnn_model.add(BatchNormalization())\n",
        "cnn_model.add(Conv2D(filters = 32, kernel_size = (3,3), activation = 'relu', kernel_initializer='he_uniform',padding='same'))\n",
        "cnn_model.add(BatchNormalization())\n",
        "cnn_model.add(MaxPooling2D(2,2))\n",
        "cnn_model.add(Dropout(0.2))\n",
        "\n",
        "cnn_model.add(Conv2D(filters = 64, kernel_size = (3,3), activation = 'relu', kernel_initializer='he_uniform', padding='same',input_shape = Input_shape))\n",
        "cnn_model.add(BatchNormalization())\n",
        "cnn_model.add(Conv2D(filters = 64, kernel_size = (3,3), activation = 'relu', kernel_initializer='he_uniform',padding='same'))\n",
        "cnn_model.add(BatchNormalization())\n",
        "cnn_model.add(MaxPooling2D(2,2))\n",
        "cnn_model.add(Dropout(0.3))\n",
        "\n",
        "\n",
        "cnn_model.add(Conv2D(filters = 128, kernel_size = (3,3), activation = 'relu', kernel_initializer='he_uniform',padding='same'))\n",
        "cnn_model.add(BatchNormalization())\n",
        "cnn_model.add(Conv2D(filters = 128, kernel_size = (3,3), activation = 'relu', kernel_initializer='he_uniform',padding='same'))\n",
        "cnn_model.add(BatchNormalization())\n",
        "cnn_model.add(MaxPooling2D(2,2))\n",
        "cnn_model.add(Dropout(0.4))\n",
        "\n",
        "cnn_model.add(Flatten())\n",
        "\n",
        "cnn_model.add(Dense(units = 1024, activation = 'relu', kernel_initializer='he_uniform'))\n",
        "cnn_model.add(BatchNormalization())\n",
        "cnn_model.add(Dropout(0.5))\n",
        "\n",
        "cnn_model.add(Dense(units = 10, activation = 'softmax'))\n"
      ],
      "execution_count": null,
      "outputs": []
    },
    {
      "cell_type": "code",
      "metadata": {
        "id": "ausNBv9yJLm9"
      },
      "source": [
        "cnn_model.compile(loss = 'categorical_crossentropy', optimizer = Adam(lr=0.001,beta_1=0.9,beta_2=0.999), metrics = ['accuracy'])"
      ],
      "execution_count": null,
      "outputs": []
    },
    {
      "cell_type": "code",
      "metadata": {
        "id": "pgEbuMwPJLqS",
        "outputId": "03a698b3-c8d3-4065-9173-cb54b63151a4",
        "colab": {
          "base_uri": "https://localhost:8080/",
          "height": 989
        }
      },
      "source": [
        "cnn_model.summary()"
      ],
      "execution_count": null,
      "outputs": [
        {
          "output_type": "stream",
          "text": [
            "Model: \"sequential\"\n",
            "_________________________________________________________________\n",
            "Layer (type)                 Output Shape              Param #   \n",
            "=================================================================\n",
            "conv2d (Conv2D)              (None, 32, 32, 32)        896       \n",
            "_________________________________________________________________\n",
            "batch_normalization (BatchNo (None, 32, 32, 32)        128       \n",
            "_________________________________________________________________\n",
            "conv2d_1 (Conv2D)            (None, 32, 32, 32)        9248      \n",
            "_________________________________________________________________\n",
            "batch_normalization_1 (Batch (None, 32, 32, 32)        128       \n",
            "_________________________________________________________________\n",
            "max_pooling2d (MaxPooling2D) (None, 16, 16, 32)        0         \n",
            "_________________________________________________________________\n",
            "dropout (Dropout)            (None, 16, 16, 32)        0         \n",
            "_________________________________________________________________\n",
            "conv2d_2 (Conv2D)            (None, 16, 16, 64)        18496     \n",
            "_________________________________________________________________\n",
            "batch_normalization_2 (Batch (None, 16, 16, 64)        256       \n",
            "_________________________________________________________________\n",
            "conv2d_3 (Conv2D)            (None, 16, 16, 64)        36928     \n",
            "_________________________________________________________________\n",
            "batch_normalization_3 (Batch (None, 16, 16, 64)        256       \n",
            "_________________________________________________________________\n",
            "max_pooling2d_1 (MaxPooling2 (None, 8, 8, 64)          0         \n",
            "_________________________________________________________________\n",
            "dropout_1 (Dropout)          (None, 8, 8, 64)          0         \n",
            "_________________________________________________________________\n",
            "conv2d_4 (Conv2D)            (None, 8, 8, 128)         73856     \n",
            "_________________________________________________________________\n",
            "batch_normalization_4 (Batch (None, 8, 8, 128)         512       \n",
            "_________________________________________________________________\n",
            "conv2d_5 (Conv2D)            (None, 8, 8, 128)         147584    \n",
            "_________________________________________________________________\n",
            "batch_normalization_5 (Batch (None, 8, 8, 128)         512       \n",
            "_________________________________________________________________\n",
            "max_pooling2d_2 (MaxPooling2 (None, 4, 4, 128)         0         \n",
            "_________________________________________________________________\n",
            "dropout_2 (Dropout)          (None, 4, 4, 128)         0         \n",
            "_________________________________________________________________\n",
            "flatten (Flatten)            (None, 2048)              0         \n",
            "_________________________________________________________________\n",
            "dense (Dense)                (None, 1024)              2098176   \n",
            "_________________________________________________________________\n",
            "batch_normalization_6 (Batch (None, 1024)              4096      \n",
            "_________________________________________________________________\n",
            "dropout_3 (Dropout)          (None, 1024)              0         \n",
            "_________________________________________________________________\n",
            "dense_1 (Dense)              (None, 10)                10250     \n",
            "=================================================================\n",
            "Total params: 2,401,322\n",
            "Trainable params: 2,398,378\n",
            "Non-trainable params: 2,944\n",
            "_________________________________________________________________\n"
          ],
          "name": "stdout"
        }
      ]
    },
    {
      "cell_type": "code",
      "metadata": {
        "id": "UaLxCiD9JLtZ",
        "outputId": "69ecd912-c662-4a58-c264-496f79ac39e1",
        "colab": {
          "base_uri": "https://localhost:8080/",
          "height": 737
        }
      },
      "source": [
        "history = cnn_model.fit(X_train, y_train, batch_size = 64, epochs = 20, shuffle = True,validation_data=(X_test,y_test))"
      ],
      "execution_count": null,
      "outputs": [
        {
          "output_type": "stream",
          "text": [
            "Epoch 1/20\n",
            "782/782 [==============================] - 20s 26ms/step - loss: 1.7265 - accuracy: 0.4359 - val_loss: 1.4235 - val_accuracy: 0.5141\n",
            "Epoch 2/20\n",
            "782/782 [==============================] - 20s 25ms/step - loss: 1.1116 - accuracy: 0.6067 - val_loss: 0.9521 - val_accuracy: 0.6690\n",
            "Epoch 3/20\n",
            "782/782 [==============================] - 20s 25ms/step - loss: 0.9234 - accuracy: 0.6720 - val_loss: 0.7796 - val_accuracy: 0.7254\n",
            "Epoch 4/20\n",
            "782/782 [==============================] - 20s 25ms/step - loss: 0.8177 - accuracy: 0.7125 - val_loss: 0.7938 - val_accuracy: 0.7253\n",
            "Epoch 5/20\n",
            "782/782 [==============================] - 20s 25ms/step - loss: 0.7477 - accuracy: 0.7377 - val_loss: 0.6886 - val_accuracy: 0.7568\n",
            "Epoch 6/20\n",
            "782/782 [==============================] - 20s 25ms/step - loss: 0.6801 - accuracy: 0.7617 - val_loss: 0.5995 - val_accuracy: 0.7935\n",
            "Epoch 7/20\n",
            "782/782 [==============================] - 20s 25ms/step - loss: 0.6274 - accuracy: 0.7799 - val_loss: 0.6226 - val_accuracy: 0.7872\n",
            "Epoch 8/20\n",
            "782/782 [==============================] - 19s 25ms/step - loss: 0.5839 - accuracy: 0.7969 - val_loss: 0.6068 - val_accuracy: 0.7891\n",
            "Epoch 9/20\n",
            "782/782 [==============================] - 20s 25ms/step - loss: 0.5502 - accuracy: 0.8063 - val_loss: 0.5354 - val_accuracy: 0.8196\n",
            "Epoch 10/20\n",
            "782/782 [==============================] - 20s 25ms/step - loss: 0.5135 - accuracy: 0.8200 - val_loss: 0.5745 - val_accuracy: 0.8111\n",
            "Epoch 11/20\n",
            "782/782 [==============================] - 20s 25ms/step - loss: 0.4810 - accuracy: 0.8312 - val_loss: 0.5049 - val_accuracy: 0.8302\n",
            "Epoch 12/20\n",
            "782/782 [==============================] - 20s 25ms/step - loss: 0.4605 - accuracy: 0.8408 - val_loss: 0.5827 - val_accuracy: 0.8004\n",
            "Epoch 13/20\n",
            "782/782 [==============================] - 20s 25ms/step - loss: 0.4349 - accuracy: 0.8473 - val_loss: 0.4897 - val_accuracy: 0.8368\n",
            "Epoch 14/20\n",
            "782/782 [==============================] - 20s 25ms/step - loss: 0.4078 - accuracy: 0.8563 - val_loss: 0.4776 - val_accuracy: 0.8423\n",
            "Epoch 15/20\n",
            "782/782 [==============================] - 20s 25ms/step - loss: 0.3884 - accuracy: 0.8638 - val_loss: 0.5253 - val_accuracy: 0.8285\n",
            "Epoch 16/20\n",
            "782/782 [==============================] - 19s 25ms/step - loss: 0.3690 - accuracy: 0.8717 - val_loss: 0.4747 - val_accuracy: 0.8446\n",
            "Epoch 17/20\n",
            "782/782 [==============================] - 20s 25ms/step - loss: 0.3602 - accuracy: 0.8729 - val_loss: 0.4684 - val_accuracy: 0.8469\n",
            "Epoch 18/20\n",
            "782/782 [==============================] - 20s 25ms/step - loss: 0.3468 - accuracy: 0.8783 - val_loss: 0.4435 - val_accuracy: 0.8536\n",
            "Epoch 19/20\n",
            "782/782 [==============================] - 20s 25ms/step - loss: 0.3179 - accuracy: 0.8866 - val_loss: 0.4458 - val_accuracy: 0.8546\n",
            "Epoch 20/20\n",
            "782/782 [==============================] - 20s 25ms/step - loss: 0.3083 - accuracy: 0.8906 - val_loss: 0.4891 - val_accuracy: 0.8484\n"
          ],
          "name": "stdout"
        }
      ]
    },
    {
      "cell_type": "code",
      "metadata": {
        "id": "BlOWJTroJLwt",
        "outputId": "76a71f73-6fba-4404-84f2-37ccbfd72b4b",
        "colab": {
          "base_uri": "https://localhost:8080/",
          "height": 53
        }
      },
      "source": [
        "evaluation = cnn_model.evaluate(X_test, y_test)\n",
        "print('Test Accuracy: {}'.format(evaluation[1]))"
      ],
      "execution_count": null,
      "outputs": [
        {
          "output_type": "stream",
          "text": [
            "313/313 [==============================] - 2s 7ms/step - loss: 0.4891 - accuracy: 0.8484\n",
            "Test Accuracy: 0.8483999967575073\n"
          ],
          "name": "stdout"
        }
      ]
    },
    {
      "cell_type": "code",
      "metadata": {
        "id": "nQPXji90JLzt"
      },
      "source": [
        "from keras.preprocessing.image import ImageDataGenerator\n",
        "\n",
        "datagen = ImageDataGenerator(\n",
        "                            \n",
        "                            \n",
        "                            width_shift_range=0.1,\n",
        "                             height_shift_range=0.1,\n",
        "                             shear_range=0.1,\n",
        "                             zoom_range=0.1,\n",
        "                            horizontal_flip = True,\n",
        "                            \n",
        "                             )\n",
        "datagen.fit(X_train)"
      ],
      "execution_count": null,
      "outputs": []
    },
    {
      "cell_type": "code",
      "metadata": {
        "id": "NQ_V6F09JL2p",
        "outputId": "2897e90c-8bd4-431d-a476-95ed06a0ee9c",
        "colab": {
          "base_uri": "https://localhost:8080/",
          "height": 1000
        }
      },
      "source": [
        "cnn_model.fit_generator(datagen.flow(X_train, y_train, batch_size = 64), epochs = 250)"
      ],
      "execution_count": null,
      "outputs": [
        {
          "output_type": "stream",
          "text": [
            "WARNING:tensorflow:From <ipython-input-16-58613e89aaa0>:1: Model.fit_generator (from tensorflow.python.keras.engine.training) is deprecated and will be removed in a future version.\n",
            "Instructions for updating:\n",
            "Please use Model.fit, which supports generators.\n",
            "Epoch 1/250\n",
            "782/782 [==============================] - 42s 54ms/step - loss: 0.6171 - accuracy: 0.7930\n",
            "Epoch 2/250\n",
            "782/782 [==============================] - 42s 53ms/step - loss: 0.5600 - accuracy: 0.8079\n",
            "Epoch 3/250\n",
            "782/782 [==============================] - 42s 54ms/step - loss: 0.5352 - accuracy: 0.8156\n",
            "Epoch 4/250\n",
            "782/782 [==============================] - 42s 54ms/step - loss: 0.5212 - accuracy: 0.8205\n",
            "Epoch 5/250\n",
            "782/782 [==============================] - 42s 53ms/step - loss: 0.5023 - accuracy: 0.8247\n",
            "Epoch 6/250\n",
            "782/782 [==============================] - 42s 54ms/step - loss: 0.5018 - accuracy: 0.8280\n",
            "Epoch 7/250\n",
            "782/782 [==============================] - 42s 54ms/step - loss: 0.4847 - accuracy: 0.8313\n",
            "Epoch 8/250\n",
            "782/782 [==============================] - 42s 54ms/step - loss: 0.4826 - accuracy: 0.8331\n",
            "Epoch 9/250\n",
            "782/782 [==============================] - 42s 54ms/step - loss: 0.4717 - accuracy: 0.8374\n",
            "Epoch 10/250\n",
            "782/782 [==============================] - 42s 54ms/step - loss: 0.4635 - accuracy: 0.8389\n",
            "Epoch 11/250\n",
            "782/782 [==============================] - 42s 54ms/step - loss: 0.4597 - accuracy: 0.8421\n",
            "Epoch 12/250\n",
            "782/782 [==============================] - 42s 54ms/step - loss: 0.4546 - accuracy: 0.8420\n",
            "Epoch 13/250\n",
            "782/782 [==============================] - 43s 54ms/step - loss: 0.4487 - accuracy: 0.8422\n",
            "Epoch 14/250\n",
            "782/782 [==============================] - 43s 55ms/step - loss: 0.4381 - accuracy: 0.8481\n",
            "Epoch 15/250\n",
            "782/782 [==============================] - 43s 55ms/step - loss: 0.4318 - accuracy: 0.8501\n",
            "Epoch 16/250\n",
            "782/782 [==============================] - 43s 55ms/step - loss: 0.4259 - accuracy: 0.8525\n",
            "Epoch 17/250\n",
            "782/782 [==============================] - 43s 54ms/step - loss: 0.4200 - accuracy: 0.8541\n",
            "Epoch 18/250\n",
            "782/782 [==============================] - 43s 54ms/step - loss: 0.4138 - accuracy: 0.8574\n",
            "Epoch 19/250\n",
            "782/782 [==============================] - 43s 55ms/step - loss: 0.4122 - accuracy: 0.8562\n",
            "Epoch 20/250\n",
            "782/782 [==============================] - 43s 55ms/step - loss: 0.4041 - accuracy: 0.8600\n",
            "Epoch 21/250\n",
            "782/782 [==============================] - 43s 55ms/step - loss: 0.4044 - accuracy: 0.8593\n",
            "Epoch 22/250\n",
            "782/782 [==============================] - 42s 54ms/step - loss: 0.3996 - accuracy: 0.8612\n",
            "Epoch 23/250\n",
            "782/782 [==============================] - 42s 54ms/step - loss: 0.3971 - accuracy: 0.8631\n",
            "Epoch 24/250\n",
            "782/782 [==============================] - 42s 54ms/step - loss: 0.3906 - accuracy: 0.8649\n",
            "Epoch 25/250\n",
            "782/782 [==============================] - 42s 54ms/step - loss: 0.3939 - accuracy: 0.8635\n",
            "Epoch 26/250\n",
            "782/782 [==============================] - 43s 54ms/step - loss: 0.3787 - accuracy: 0.8670\n",
            "Epoch 27/250\n",
            "782/782 [==============================] - 43s 54ms/step - loss: 0.3780 - accuracy: 0.8676\n",
            "Epoch 28/250\n",
            "782/782 [==============================] - 43s 55ms/step - loss: 0.3765 - accuracy: 0.8690\n",
            "Epoch 29/250\n",
            "782/782 [==============================] - 42s 54ms/step - loss: 0.3765 - accuracy: 0.8688\n",
            "Epoch 30/250\n",
            "782/782 [==============================] - 42s 54ms/step - loss: 0.3684 - accuracy: 0.8706\n",
            "Epoch 31/250\n",
            "782/782 [==============================] - 43s 55ms/step - loss: 0.3668 - accuracy: 0.8731\n",
            "Epoch 32/250\n",
            "782/782 [==============================] - 43s 55ms/step - loss: 0.3635 - accuracy: 0.8734\n",
            "Epoch 33/250\n",
            "782/782 [==============================] - 43s 56ms/step - loss: 0.3540 - accuracy: 0.8754\n",
            "Epoch 34/250\n",
            "782/782 [==============================] - 43s 55ms/step - loss: 0.3613 - accuracy: 0.8745\n",
            "Epoch 35/250\n",
            "782/782 [==============================] - 42s 54ms/step - loss: 0.3593 - accuracy: 0.8751\n",
            "Epoch 36/250\n",
            "782/782 [==============================] - 43s 54ms/step - loss: 0.3498 - accuracy: 0.8774\n",
            "Epoch 37/250\n",
            "782/782 [==============================] - 43s 55ms/step - loss: 0.3506 - accuracy: 0.8771\n",
            "Epoch 38/250\n",
            "782/782 [==============================] - 43s 54ms/step - loss: 0.3496 - accuracy: 0.8779\n",
            "Epoch 39/250\n",
            "782/782 [==============================] - 42s 54ms/step - loss: 0.3430 - accuracy: 0.8803\n",
            "Epoch 40/250\n",
            "782/782 [==============================] - 43s 55ms/step - loss: 0.3422 - accuracy: 0.8803\n",
            "Epoch 41/250\n",
            "782/782 [==============================] - 43s 55ms/step - loss: 0.3436 - accuracy: 0.8797\n",
            "Epoch 42/250\n",
            "782/782 [==============================] - 42s 54ms/step - loss: 0.3419 - accuracy: 0.8793\n",
            "Epoch 43/250\n",
            "782/782 [==============================] - 42s 54ms/step - loss: 0.3378 - accuracy: 0.8814\n",
            "Epoch 44/250\n",
            "782/782 [==============================] - 42s 54ms/step - loss: 0.3337 - accuracy: 0.8831\n",
            "Epoch 45/250\n",
            "782/782 [==============================] - 42s 54ms/step - loss: 0.3331 - accuracy: 0.8840\n",
            "Epoch 46/250\n",
            "782/782 [==============================] - 42s 54ms/step - loss: 0.3352 - accuracy: 0.8819\n",
            "Epoch 47/250\n",
            "782/782 [==============================] - 42s 53ms/step - loss: 0.3263 - accuracy: 0.8836\n",
            "Epoch 48/250\n",
            "782/782 [==============================] - 42s 54ms/step - loss: 0.3250 - accuracy: 0.8866\n",
            "Epoch 49/250\n",
            "782/782 [==============================] - 43s 54ms/step - loss: 0.3217 - accuracy: 0.8871\n",
            "Epoch 50/250\n",
            "782/782 [==============================] - 43s 55ms/step - loss: 0.3265 - accuracy: 0.8864\n",
            "Epoch 51/250\n",
            "782/782 [==============================] - 42s 54ms/step - loss: 0.3221 - accuracy: 0.8855\n",
            "Epoch 52/250\n",
            "782/782 [==============================] - 42s 54ms/step - loss: 0.3211 - accuracy: 0.8879\n",
            "Epoch 53/250\n",
            "782/782 [==============================] - 42s 54ms/step - loss: 0.3217 - accuracy: 0.8877\n",
            "Epoch 54/250\n",
            "782/782 [==============================] - 42s 54ms/step - loss: 0.3192 - accuracy: 0.8883\n",
            "Epoch 55/250\n",
            "782/782 [==============================] - 43s 55ms/step - loss: 0.3120 - accuracy: 0.8914\n",
            "Epoch 56/250\n",
            "782/782 [==============================] - 43s 55ms/step - loss: 0.3067 - accuracy: 0.8902\n",
            "Epoch 57/250\n",
            "782/782 [==============================] - 43s 55ms/step - loss: 0.3096 - accuracy: 0.8911\n",
            "Epoch 58/250\n",
            "782/782 [==============================] - 43s 55ms/step - loss: 0.3096 - accuracy: 0.8912\n",
            "Epoch 59/250\n",
            "782/782 [==============================] - 42s 54ms/step - loss: 0.3070 - accuracy: 0.8936\n",
            "Epoch 60/250\n",
            "782/782 [==============================] - 42s 54ms/step - loss: 0.3043 - accuracy: 0.8930\n",
            "Epoch 61/250\n",
            "782/782 [==============================] - 42s 54ms/step - loss: 0.3072 - accuracy: 0.8924\n",
            "Epoch 62/250\n",
            "782/782 [==============================] - 42s 54ms/step - loss: 0.3022 - accuracy: 0.8957\n",
            "Epoch 63/250\n",
            "782/782 [==============================] - 42s 54ms/step - loss: 0.3021 - accuracy: 0.8942\n",
            "Epoch 64/250\n",
            "782/782 [==============================] - 42s 54ms/step - loss: 0.3044 - accuracy: 0.8930\n",
            "Epoch 65/250\n",
            "782/782 [==============================] - 42s 54ms/step - loss: 0.2991 - accuracy: 0.8957\n",
            "Epoch 66/250\n",
            "782/782 [==============================] - 42s 54ms/step - loss: 0.2960 - accuracy: 0.8960\n",
            "Epoch 67/250\n",
            "782/782 [==============================] - 42s 54ms/step - loss: 0.2975 - accuracy: 0.8955\n",
            "Epoch 68/250\n",
            "782/782 [==============================] - 42s 54ms/step - loss: 0.2989 - accuracy: 0.8955\n",
            "Epoch 69/250\n",
            "782/782 [==============================] - 42s 54ms/step - loss: 0.2888 - accuracy: 0.8992\n",
            "Epoch 70/250\n",
            "782/782 [==============================] - 43s 55ms/step - loss: 0.2934 - accuracy: 0.8980\n",
            "Epoch 71/250\n",
            "782/782 [==============================] - 42s 54ms/step - loss: 0.2899 - accuracy: 0.8990\n",
            "Epoch 72/250\n",
            "782/782 [==============================] - 43s 54ms/step - loss: 0.2970 - accuracy: 0.8959\n",
            "Epoch 73/250\n",
            "782/782 [==============================] - 43s 55ms/step - loss: 0.2896 - accuracy: 0.8985\n",
            "Epoch 74/250\n",
            "782/782 [==============================] - 43s 55ms/step - loss: 0.2856 - accuracy: 0.8991\n",
            "Epoch 75/250\n",
            "782/782 [==============================] - 43s 55ms/step - loss: 0.2886 - accuracy: 0.8983\n",
            "Epoch 76/250\n",
            "782/782 [==============================] - 43s 55ms/step - loss: 0.2859 - accuracy: 0.8978\n",
            "Epoch 77/250\n",
            "782/782 [==============================] - 43s 55ms/step - loss: 0.2847 - accuracy: 0.8996\n",
            "Epoch 78/250\n",
            "782/782 [==============================] - 43s 55ms/step - loss: 0.2805 - accuracy: 0.9021\n",
            "Epoch 79/250\n",
            "782/782 [==============================] - 43s 55ms/step - loss: 0.2812 - accuracy: 0.9008\n",
            "Epoch 80/250\n",
            "782/782 [==============================] - 43s 55ms/step - loss: 0.2822 - accuracy: 0.9013\n",
            "Epoch 81/250\n",
            "782/782 [==============================] - 43s 55ms/step - loss: 0.2769 - accuracy: 0.9020\n",
            "Epoch 82/250\n",
            "782/782 [==============================] - 43s 54ms/step - loss: 0.2794 - accuracy: 0.9005\n",
            "Epoch 83/250\n",
            "782/782 [==============================] - 43s 55ms/step - loss: 0.2808 - accuracy: 0.9005\n",
            "Epoch 84/250\n",
            "782/782 [==============================] - 43s 55ms/step - loss: 0.2777 - accuracy: 0.9035\n",
            "Epoch 85/250\n",
            "782/782 [==============================] - 42s 54ms/step - loss: 0.2782 - accuracy: 0.9018\n",
            "Epoch 86/250\n",
            "782/782 [==============================] - 43s 55ms/step - loss: 0.2739 - accuracy: 0.9036\n",
            "Epoch 87/250\n",
            "782/782 [==============================] - 42s 54ms/step - loss: 0.2756 - accuracy: 0.9030\n",
            "Epoch 88/250\n",
            "782/782 [==============================] - 42s 54ms/step - loss: 0.2716 - accuracy: 0.9044\n",
            "Epoch 89/250\n",
            "782/782 [==============================] - 43s 55ms/step - loss: 0.2761 - accuracy: 0.9037\n",
            "Epoch 90/250\n",
            "782/782 [==============================] - 42s 54ms/step - loss: 0.2689 - accuracy: 0.9052\n",
            "Epoch 91/250\n",
            "782/782 [==============================] - 42s 54ms/step - loss: 0.2706 - accuracy: 0.9043\n",
            "Epoch 92/250\n",
            "782/782 [==============================] - 42s 54ms/step - loss: 0.2763 - accuracy: 0.9031\n",
            "Epoch 93/250\n",
            "782/782 [==============================] - 43s 55ms/step - loss: 0.2694 - accuracy: 0.9056\n",
            "Epoch 94/250\n",
            "782/782 [==============================] - 42s 54ms/step - loss: 0.2669 - accuracy: 0.9055\n",
            "Epoch 95/250\n",
            "782/782 [==============================] - 42s 53ms/step - loss: 0.2681 - accuracy: 0.9055\n",
            "Epoch 96/250\n",
            "782/782 [==============================] - 42s 54ms/step - loss: 0.2678 - accuracy: 0.9055\n",
            "Epoch 97/250\n",
            "782/782 [==============================] - 42s 53ms/step - loss: 0.2697 - accuracy: 0.9054\n",
            "Epoch 98/250\n",
            "782/782 [==============================] - 43s 55ms/step - loss: 0.2666 - accuracy: 0.9080\n",
            "Epoch 99/250\n",
            "782/782 [==============================] - 43s 54ms/step - loss: 0.2688 - accuracy: 0.9057\n",
            "Epoch 100/250\n",
            "782/782 [==============================] - 42s 54ms/step - loss: 0.2629 - accuracy: 0.9073\n",
            "Epoch 101/250\n",
            "782/782 [==============================] - 42s 54ms/step - loss: 0.2639 - accuracy: 0.9066\n",
            "Epoch 102/250\n",
            "782/782 [==============================] - 42s 53ms/step - loss: 0.2595 - accuracy: 0.9090\n",
            "Epoch 103/250\n",
            "782/782 [==============================] - 42s 54ms/step - loss: 0.2569 - accuracy: 0.9090\n",
            "Epoch 104/250\n",
            "782/782 [==============================] - 43s 55ms/step - loss: 0.2603 - accuracy: 0.9098\n",
            "Epoch 105/250\n",
            "782/782 [==============================] - 42s 53ms/step - loss: 0.2592 - accuracy: 0.9082\n",
            "Epoch 106/250\n",
            "782/782 [==============================] - 43s 55ms/step - loss: 0.2576 - accuracy: 0.9103\n",
            "Epoch 107/250\n",
            "782/782 [==============================] - 43s 55ms/step - loss: 0.2619 - accuracy: 0.9085\n",
            "Epoch 108/250\n",
            "782/782 [==============================] - 43s 55ms/step - loss: 0.2573 - accuracy: 0.9092\n",
            "Epoch 109/250\n",
            "782/782 [==============================] - 42s 54ms/step - loss: 0.2557 - accuracy: 0.9100\n",
            "Epoch 110/250\n",
            "782/782 [==============================] - 42s 54ms/step - loss: 0.2606 - accuracy: 0.9083\n",
            "Epoch 111/250\n",
            "782/782 [==============================] - 42s 54ms/step - loss: 0.2594 - accuracy: 0.9090\n",
            "Epoch 112/250\n",
            "782/782 [==============================] - 42s 54ms/step - loss: 0.2558 - accuracy: 0.9090\n",
            "Epoch 113/250\n",
            "782/782 [==============================] - 42s 54ms/step - loss: 0.2495 - accuracy: 0.9108\n",
            "Epoch 114/250\n",
            "782/782 [==============================] - 43s 55ms/step - loss: 0.2520 - accuracy: 0.9111\n",
            "Epoch 115/250\n",
            "782/782 [==============================] - 43s 55ms/step - loss: 0.2481 - accuracy: 0.9109\n",
            "Epoch 116/250\n",
            "782/782 [==============================] - 42s 54ms/step - loss: 0.2492 - accuracy: 0.9113\n",
            "Epoch 117/250\n",
            "782/782 [==============================] - 42s 54ms/step - loss: 0.2501 - accuracy: 0.9126\n",
            "Epoch 118/250\n",
            "782/782 [==============================] - 42s 54ms/step - loss: 0.2466 - accuracy: 0.9132\n",
            "Epoch 119/250\n",
            "782/782 [==============================] - 43s 54ms/step - loss: 0.2513 - accuracy: 0.9113\n",
            "Epoch 120/250\n",
            "782/782 [==============================] - 43s 54ms/step - loss: 0.2434 - accuracy: 0.9129\n",
            "Epoch 121/250\n",
            "782/782 [==============================] - 43s 55ms/step - loss: 0.2514 - accuracy: 0.9106\n",
            "Epoch 122/250\n",
            "782/782 [==============================] - 43s 55ms/step - loss: 0.2497 - accuracy: 0.9114\n",
            "Epoch 123/250\n",
            "782/782 [==============================] - 43s 54ms/step - loss: 0.2457 - accuracy: 0.9133\n",
            "Epoch 124/250\n",
            "782/782 [==============================] - 43s 55ms/step - loss: 0.2430 - accuracy: 0.9142\n",
            "Epoch 125/250\n",
            "782/782 [==============================] - 43s 56ms/step - loss: 0.2473 - accuracy: 0.9117\n",
            "Epoch 126/250\n",
            "782/782 [==============================] - 43s 54ms/step - loss: 0.2417 - accuracy: 0.9144\n",
            "Epoch 127/250\n",
            "782/782 [==============================] - 43s 55ms/step - loss: 0.2443 - accuracy: 0.9135\n",
            "Epoch 128/250\n",
            "782/782 [==============================] - 44s 56ms/step - loss: 0.2431 - accuracy: 0.9139\n",
            "Epoch 129/250\n",
            "782/782 [==============================] - 43s 55ms/step - loss: 0.2403 - accuracy: 0.9155\n",
            "Epoch 130/250\n",
            "782/782 [==============================] - 43s 55ms/step - loss: 0.2403 - accuracy: 0.9146\n",
            "Epoch 131/250\n",
            "782/782 [==============================] - 43s 55ms/step - loss: 0.2455 - accuracy: 0.9132\n",
            "Epoch 132/250\n",
            "782/782 [==============================] - 43s 55ms/step - loss: 0.2394 - accuracy: 0.9165\n",
            "Epoch 133/250\n",
            "782/782 [==============================] - 43s 55ms/step - loss: 0.2388 - accuracy: 0.9160\n",
            "Epoch 134/250\n",
            "782/782 [==============================] - 44s 56ms/step - loss: 0.2404 - accuracy: 0.9148\n",
            "Epoch 135/250\n",
            "782/782 [==============================] - 44s 56ms/step - loss: 0.2440 - accuracy: 0.9132\n",
            "Epoch 136/250\n",
            "782/782 [==============================] - 43s 55ms/step - loss: 0.2401 - accuracy: 0.9160\n",
            "Epoch 137/250\n",
            "782/782 [==============================] - 43s 55ms/step - loss: 0.2331 - accuracy: 0.9164\n",
            "Epoch 138/250\n",
            "782/782 [==============================] - 43s 55ms/step - loss: 0.2350 - accuracy: 0.9163\n",
            "Epoch 139/250\n",
            "782/782 [==============================] - 43s 55ms/step - loss: 0.2376 - accuracy: 0.9164\n",
            "Epoch 140/250\n",
            "782/782 [==============================] - 43s 55ms/step - loss: 0.2371 - accuracy: 0.9160\n",
            "Epoch 141/250\n",
            "782/782 [==============================] - 43s 55ms/step - loss: 0.2357 - accuracy: 0.9164\n",
            "Epoch 142/250\n",
            "782/782 [==============================] - 43s 55ms/step - loss: 0.2349 - accuracy: 0.9169\n",
            "Epoch 143/250\n",
            "782/782 [==============================] - 43s 55ms/step - loss: 0.2356 - accuracy: 0.9172\n",
            "Epoch 144/250\n",
            "782/782 [==============================] - 43s 55ms/step - loss: 0.2341 - accuracy: 0.9175\n",
            "Epoch 145/250\n",
            "782/782 [==============================] - 43s 55ms/step - loss: 0.2306 - accuracy: 0.9165\n",
            "Epoch 146/250\n",
            "782/782 [==============================] - 43s 55ms/step - loss: 0.2352 - accuracy: 0.9159\n",
            "Epoch 147/250\n",
            "782/782 [==============================] - 43s 55ms/step - loss: 0.2346 - accuracy: 0.9176\n",
            "Epoch 148/250\n",
            "782/782 [==============================] - 43s 55ms/step - loss: 0.2290 - accuracy: 0.9206\n",
            "Epoch 149/250\n",
            "782/782 [==============================] - 44s 56ms/step - loss: 0.2324 - accuracy: 0.9179\n",
            "Epoch 150/250\n",
            "782/782 [==============================] - 44s 56ms/step - loss: 0.2312 - accuracy: 0.9192\n",
            "Epoch 151/250\n",
            "782/782 [==============================] - 43s 55ms/step - loss: 0.2369 - accuracy: 0.9167\n",
            "Epoch 152/250\n",
            "782/782 [==============================] - 43s 55ms/step - loss: 0.2320 - accuracy: 0.9176\n",
            "Epoch 153/250\n",
            "782/782 [==============================] - 43s 55ms/step - loss: 0.2320 - accuracy: 0.9168\n",
            "Epoch 154/250\n",
            "782/782 [==============================] - 43s 55ms/step - loss: 0.2261 - accuracy: 0.9195\n",
            "Epoch 155/250\n",
            "782/782 [==============================] - 43s 55ms/step - loss: 0.2271 - accuracy: 0.9203\n",
            "Epoch 156/250\n",
            "782/782 [==============================] - 43s 55ms/step - loss: 0.2257 - accuracy: 0.9217\n",
            "Epoch 157/250\n",
            "782/782 [==============================] - 43s 55ms/step - loss: 0.2272 - accuracy: 0.9201\n",
            "Epoch 158/250\n",
            "782/782 [==============================] - 43s 55ms/step - loss: 0.2319 - accuracy: 0.9184\n",
            "Epoch 159/250\n",
            "782/782 [==============================] - 43s 55ms/step - loss: 0.2275 - accuracy: 0.9204\n",
            "Epoch 160/250\n",
            "782/782 [==============================] - 43s 55ms/step - loss: 0.2273 - accuracy: 0.9193\n",
            "Epoch 161/250\n",
            "782/782 [==============================] - 42s 54ms/step - loss: 0.2288 - accuracy: 0.9195\n",
            "Epoch 162/250\n",
            "782/782 [==============================] - 42s 54ms/step - loss: 0.2291 - accuracy: 0.9210\n",
            "Epoch 163/250\n",
            "782/782 [==============================] - 42s 54ms/step - loss: 0.2247 - accuracy: 0.9209\n",
            "Epoch 164/250\n",
            "782/782 [==============================] - 43s 55ms/step - loss: 0.2217 - accuracy: 0.9207\n",
            "Epoch 165/250\n",
            "782/782 [==============================] - 41s 53ms/step - loss: 0.2220 - accuracy: 0.9208\n",
            "Epoch 166/250\n",
            "782/782 [==============================] - 41s 53ms/step - loss: 0.2245 - accuracy: 0.9205\n",
            "Epoch 167/250\n",
            "782/782 [==============================] - 41s 53ms/step - loss: 0.2237 - accuracy: 0.9206\n",
            "Epoch 168/250\n",
            "782/782 [==============================] - 41s 53ms/step - loss: 0.2218 - accuracy: 0.9213\n",
            "Epoch 169/250\n",
            "782/782 [==============================] - 42s 54ms/step - loss: 0.2225 - accuracy: 0.9217\n",
            "Epoch 170/250\n",
            "782/782 [==============================] - 42s 54ms/step - loss: 0.2208 - accuracy: 0.9214\n",
            "Epoch 171/250\n",
            "782/782 [==============================] - 42s 54ms/step - loss: 0.2175 - accuracy: 0.9229\n",
            "Epoch 172/250\n",
            "782/782 [==============================] - 42s 54ms/step - loss: 0.2260 - accuracy: 0.9206\n",
            "Epoch 173/250\n",
            "782/782 [==============================] - 42s 54ms/step - loss: 0.2203 - accuracy: 0.9227\n",
            "Epoch 174/250\n",
            "782/782 [==============================] - 43s 55ms/step - loss: 0.2204 - accuracy: 0.9237\n",
            "Epoch 175/250\n",
            "782/782 [==============================] - 42s 53ms/step - loss: 0.2213 - accuracy: 0.9213\n",
            "Epoch 176/250\n",
            "782/782 [==============================] - 42s 54ms/step - loss: 0.2189 - accuracy: 0.9207\n",
            "Epoch 177/250\n",
            "782/782 [==============================] - 43s 55ms/step - loss: 0.2224 - accuracy: 0.9227\n",
            "Epoch 178/250\n",
            "782/782 [==============================] - 42s 54ms/step - loss: 0.2189 - accuracy: 0.9210\n",
            "Epoch 179/250\n",
            "782/782 [==============================] - 43s 55ms/step - loss: 0.2154 - accuracy: 0.9249\n",
            "Epoch 180/250\n",
            "782/782 [==============================] - 42s 54ms/step - loss: 0.2186 - accuracy: 0.9228\n",
            "Epoch 181/250\n",
            "782/782 [==============================] - 43s 55ms/step - loss: 0.2156 - accuracy: 0.9244\n",
            "Epoch 182/250\n",
            "782/782 [==============================] - 43s 55ms/step - loss: 0.2198 - accuracy: 0.9219\n",
            "Epoch 183/250\n",
            "782/782 [==============================] - 43s 55ms/step - loss: 0.2170 - accuracy: 0.9238\n",
            "Epoch 184/250\n",
            "782/782 [==============================] - 43s 55ms/step - loss: 0.2144 - accuracy: 0.9229\n",
            "Epoch 185/250\n",
            "782/782 [==============================] - 43s 55ms/step - loss: 0.2204 - accuracy: 0.9226\n",
            "Epoch 186/250\n",
            "782/782 [==============================] - 44s 56ms/step - loss: 0.2171 - accuracy: 0.9228\n",
            "Epoch 187/250\n",
            "782/782 [==============================] - 43s 55ms/step - loss: 0.2144 - accuracy: 0.9240\n",
            "Epoch 188/250\n",
            "782/782 [==============================] - 43s 55ms/step - loss: 0.2128 - accuracy: 0.9247\n",
            "Epoch 189/250\n",
            "782/782 [==============================] - 43s 55ms/step - loss: 0.2132 - accuracy: 0.9252\n",
            "Epoch 190/250\n",
            "782/782 [==============================] - 44s 56ms/step - loss: 0.2143 - accuracy: 0.9247\n",
            "Epoch 191/250\n",
            "782/782 [==============================] - 43s 55ms/step - loss: 0.2142 - accuracy: 0.9246\n",
            "Epoch 192/250\n",
            "782/782 [==============================] - 43s 55ms/step - loss: 0.2151 - accuracy: 0.9241\n",
            "Epoch 193/250\n",
            "782/782 [==============================] - 43s 55ms/step - loss: 0.2123 - accuracy: 0.9247\n",
            "Epoch 194/250\n",
            "782/782 [==============================] - 44s 56ms/step - loss: 0.2081 - accuracy: 0.9259\n",
            "Epoch 195/250\n",
            "782/782 [==============================] - 43s 55ms/step - loss: 0.2128 - accuracy: 0.9248\n",
            "Epoch 196/250\n",
            "782/782 [==============================] - 42s 54ms/step - loss: 0.2108 - accuracy: 0.9245\n",
            "Epoch 197/250\n",
            "782/782 [==============================] - 42s 54ms/step - loss: 0.2152 - accuracy: 0.9238\n",
            "Epoch 198/250\n",
            "782/782 [==============================] - 42s 54ms/step - loss: 0.2105 - accuracy: 0.9262\n",
            "Epoch 199/250\n",
            "782/782 [==============================] - 42s 54ms/step - loss: 0.2069 - accuracy: 0.9257\n",
            "Epoch 200/250\n",
            "782/782 [==============================] - 42s 54ms/step - loss: 0.2137 - accuracy: 0.9252\n",
            "Epoch 201/250\n",
            "782/782 [==============================] - 42s 54ms/step - loss: 0.2124 - accuracy: 0.9250\n",
            "Epoch 202/250\n",
            "782/782 [==============================] - 42s 54ms/step - loss: 0.2107 - accuracy: 0.9248\n",
            "Epoch 203/250\n",
            "782/782 [==============================] - 42s 54ms/step - loss: 0.2095 - accuracy: 0.9253\n",
            "Epoch 204/250\n",
            "782/782 [==============================] - 42s 54ms/step - loss: 0.2100 - accuracy: 0.9244\n",
            "Epoch 205/250\n",
            "782/782 [==============================] - 42s 54ms/step - loss: 0.2046 - accuracy: 0.9265\n",
            "Epoch 206/250\n",
            "782/782 [==============================] - 43s 55ms/step - loss: 0.2093 - accuracy: 0.9255\n",
            "Epoch 207/250\n",
            "782/782 [==============================] - 43s 55ms/step - loss: 0.2061 - accuracy: 0.9272\n",
            "Epoch 208/250\n",
            "782/782 [==============================] - 43s 55ms/step - loss: 0.2105 - accuracy: 0.9255\n",
            "Epoch 209/250\n",
            "782/782 [==============================] - 42s 54ms/step - loss: 0.2049 - accuracy: 0.9275\n",
            "Epoch 210/250\n",
            "782/782 [==============================] - 43s 54ms/step - loss: 0.2094 - accuracy: 0.9261\n",
            "Epoch 211/250\n",
            "782/782 [==============================] - 43s 56ms/step - loss: 0.2053 - accuracy: 0.9284\n",
            "Epoch 212/250\n",
            "782/782 [==============================] - 44s 56ms/step - loss: 0.2103 - accuracy: 0.9258\n",
            "Epoch 213/250\n",
            "782/782 [==============================] - 43s 55ms/step - loss: 0.2035 - accuracy: 0.9285\n",
            "Epoch 214/250\n",
            "782/782 [==============================] - 43s 55ms/step - loss: 0.2096 - accuracy: 0.9270\n",
            "Epoch 215/250\n",
            "782/782 [==============================] - 43s 55ms/step - loss: 0.2124 - accuracy: 0.9258\n",
            "Epoch 216/250\n",
            "782/782 [==============================] - 44s 56ms/step - loss: 0.2107 - accuracy: 0.9247\n",
            "Epoch 217/250\n",
            "782/782 [==============================] - 43s 55ms/step - loss: 0.2063 - accuracy: 0.9271\n",
            "Epoch 218/250\n",
            "782/782 [==============================] - 43s 54ms/step - loss: 0.2035 - accuracy: 0.9282\n",
            "Epoch 219/250\n",
            "782/782 [==============================] - 43s 55ms/step - loss: 0.2058 - accuracy: 0.9268\n",
            "Epoch 220/250\n",
            "782/782 [==============================] - 43s 56ms/step - loss: 0.2050 - accuracy: 0.9284\n",
            "Epoch 221/250\n",
            "782/782 [==============================] - 43s 55ms/step - loss: 0.2053 - accuracy: 0.9277\n",
            "Epoch 222/250\n",
            "782/782 [==============================] - 42s 54ms/step - loss: 0.2044 - accuracy: 0.9268\n",
            "Epoch 223/250\n",
            "782/782 [==============================] - 42s 54ms/step - loss: 0.2045 - accuracy: 0.9271\n",
            "Epoch 224/250\n",
            "782/782 [==============================] - 42s 54ms/step - loss: 0.2006 - accuracy: 0.9301\n",
            "Epoch 225/250\n",
            "782/782 [==============================] - 42s 54ms/step - loss: 0.2012 - accuracy: 0.9293\n",
            "Epoch 226/250\n",
            "782/782 [==============================] - 42s 54ms/step - loss: 0.2020 - accuracy: 0.9287\n",
            "Epoch 227/250\n",
            "782/782 [==============================] - 42s 54ms/step - loss: 0.2026 - accuracy: 0.9278\n",
            "Epoch 228/250\n",
            "782/782 [==============================] - 43s 55ms/step - loss: 0.2061 - accuracy: 0.9276\n",
            "Epoch 229/250\n",
            "782/782 [==============================] - 43s 56ms/step - loss: 0.2015 - accuracy: 0.9287\n",
            "Epoch 230/250\n",
            "782/782 [==============================] - 43s 55ms/step - loss: 0.1972 - accuracy: 0.9294\n",
            "Epoch 231/250\n",
            "782/782 [==============================] - 43s 55ms/step - loss: 0.2017 - accuracy: 0.9283\n",
            "Epoch 232/250\n",
            "782/782 [==============================] - 43s 55ms/step - loss: 0.1996 - accuracy: 0.9295\n",
            "Epoch 233/250\n",
            "782/782 [==============================] - 44s 56ms/step - loss: 0.2016 - accuracy: 0.9281\n",
            "Epoch 234/250\n",
            "782/782 [==============================] - 43s 55ms/step - loss: 0.2021 - accuracy: 0.9289\n",
            "Epoch 235/250\n",
            "782/782 [==============================] - 43s 54ms/step - loss: 0.1924 - accuracy: 0.9316\n",
            "Epoch 236/250\n",
            "782/782 [==============================] - 43s 55ms/step - loss: 0.2027 - accuracy: 0.9274\n",
            "Epoch 237/250\n",
            "782/782 [==============================] - 44s 56ms/step - loss: 0.1992 - accuracy: 0.9285\n",
            "Epoch 238/250\n",
            "782/782 [==============================] - 42s 54ms/step - loss: 0.2013 - accuracy: 0.9284\n",
            "Epoch 239/250\n",
            "782/782 [==============================] - 42s 53ms/step - loss: 0.1989 - accuracy: 0.9289\n",
            "Epoch 240/250\n",
            "782/782 [==============================] - 42s 54ms/step - loss: 0.2030 - accuracy: 0.9291\n",
            "Epoch 241/250\n",
            "782/782 [==============================] - 42s 53ms/step - loss: 0.1974 - accuracy: 0.9314\n",
            "Epoch 242/250\n",
            "782/782 [==============================] - 42s 53ms/step - loss: 0.2010 - accuracy: 0.9291\n",
            "Epoch 243/250\n",
            "782/782 [==============================] - 42s 53ms/step - loss: 0.1961 - accuracy: 0.9311\n",
            "Epoch 244/250\n",
            "782/782 [==============================] - 42s 54ms/step - loss: 0.1947 - accuracy: 0.9315\n",
            "Epoch 245/250\n",
            "782/782 [==============================] - 42s 53ms/step - loss: 0.1955 - accuracy: 0.9310\n",
            "Epoch 246/250\n",
            "782/782 [==============================] - 42s 54ms/step - loss: 0.1969 - accuracy: 0.9301\n",
            "Epoch 247/250\n",
            "782/782 [==============================] - 42s 53ms/step - loss: 0.2014 - accuracy: 0.9288\n",
            "Epoch 248/250\n",
            "782/782 [==============================] - 42s 53ms/step - loss: 0.1966 - accuracy: 0.9300\n",
            "Epoch 249/250\n",
            "782/782 [==============================] - 41s 53ms/step - loss: 0.1960 - accuracy: 0.9318\n",
            "Epoch 250/250\n",
            "782/782 [==============================] - 42s 53ms/step - loss: 0.1950 - accuracy: 0.9304\n"
          ],
          "name": "stdout"
        },
        {
          "output_type": "execute_result",
          "data": {
            "text/plain": [
              "<tensorflow.python.keras.callbacks.History at 0x7f7d299d3400>"
            ]
          },
          "metadata": {
            "tags": []
          },
          "execution_count": 16
        }
      ]
    },
    {
      "cell_type": "code",
      "metadata": {
        "id": "YrH1JHMfKApQ",
        "outputId": "e6e72ddf-a93e-42ba-c701-49df2353d73b",
        "colab": {
          "base_uri": "https://localhost:8080/",
          "height": 35
        }
      },
      "source": [
        "score = cnn_model.evaluate(X_test, y_test)"
      ],
      "execution_count": null,
      "outputs": [
        {
          "output_type": "stream",
          "text": [
            "313/313 [==============================] - 2s 7ms/step - loss: 0.3236 - accuracy: 0.9009\n"
          ],
          "name": "stdout"
        }
      ]
    },
    {
      "cell_type": "code",
      "metadata": {
        "id": "U1NDTkMKKBDO",
        "outputId": "ae671167-e25a-454f-b228-9144deefa3f3",
        "colab": {
          "base_uri": "https://localhost:8080/",
          "height": 35
        }
      },
      "source": [
        "print('Test accuracy', score[1])"
      ],
      "execution_count": null,
      "outputs": [
        {
          "output_type": "stream",
          "text": [
            "Test accuracy 0.9009000062942505\n"
          ],
          "name": "stdout"
        }
      ]
    },
    {
      "cell_type": "code",
      "metadata": {
        "id": "iG1i1pICK_xM",
        "outputId": "9af9cce5-b9fc-438f-ed52-e5a20cb99d5c",
        "colab": {
          "base_uri": "https://localhost:8080/",
          "height": 35
        }
      },
      "source": [
        "score_test= cnn_model.evaluate(X_train, y_train)"
      ],
      "execution_count": null,
      "outputs": [
        {
          "output_type": "stream",
          "text": [
            "1563/1563 [==============================] - 11s 7ms/step - loss: 0.0687 - accuracy: 0.9774\n"
          ],
          "name": "stdout"
        }
      ]
    },
    {
      "cell_type": "code",
      "metadata": {
        "id": "M7fYRGVNKBMw",
        "outputId": "a3d398ff-cffd-4a23-bb7f-7a5cdc334e7b",
        "colab": {
          "base_uri": "https://localhost:8080/",
          "height": 35
        }
      },
      "source": [
        "print('Train accuracy', score_test[1])"
      ],
      "execution_count": null,
      "outputs": [
        {
          "output_type": "stream",
          "text": [
            "Train accuracy 0.977400004863739\n"
          ],
          "name": "stdout"
        }
      ]
    }
  ]
}