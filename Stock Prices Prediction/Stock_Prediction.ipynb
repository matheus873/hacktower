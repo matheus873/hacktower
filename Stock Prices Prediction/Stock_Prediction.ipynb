{
  "nbformat": 4,
  "nbformat_minor": 0,
  "metadata": {
    "colab": {
      "name": "Stock Prediction.ipynb",
      "provenance": [],
      "private_outputs": true,
      "collapsed_sections": []
    },
    "kernelspec": {
      "name": "python3",
      "display_name": "Python 3"
    }
  },
  "cells": [
    {
      "cell_type": "code",
      "metadata": {
        "id": "q-UT7ZZgO3dt"
      },
      "source": [
        "# Install the dependencies \n",
        "import numpy as np\n",
        "import pandas as pd\n",
        "import matplotlib.pyplot as plt\n",
        "\n",
        "%matplotlib inline"
      ],
      "execution_count": null,
      "outputs": []
    },
    {
      "cell_type": "code",
      "metadata": {
        "id": "5liG0NdWPeqK"
      },
      "source": [
        "# Call the dataset file and store the data in a dataframe\n",
        "filename = \"https://raw.githubusercontent.com/shahkv95/Datasets/master/Portfolio_Construction_with_Python_%26_ML/Stock%20Prediction/NFLX.csv\"\n",
        "df = pd.read_csv(filename)\n",
        "df.head()"
      ],
      "execution_count": null,
      "outputs": []
    },
    {
      "cell_type": "code",
      "metadata": {
        "id": "378Jn0ECRCnx"
      },
      "source": [
        "print(f'There are {df.shape[0]} rows and {df.shape[1]} columns in this dataset..!')"
      ],
      "execution_count": null,
      "outputs": []
    },
    {
      "cell_type": "code",
      "metadata": {
        "id": "uBUcE7L6RDzJ"
      },
      "source": [
        "# Visualize the close price data \n",
        "plt.figure(figsize=(16,8))\n",
        "plt.title(\"Netflix stock - Closing price\")\n",
        "plt.xlabel(\"No. of Days\")\n",
        "plt.ylabel(\"Close Price in USD\")\n",
        "plt.plot(df['Close'])\n",
        "plt.show()"
      ],
      "execution_count": null,
      "outputs": []
    },
    {
      "cell_type": "code",
      "metadata": {
        "id": "xhW4R9wqRqod"
      },
      "source": [
        "# Dataframe containing only the close price series\n",
        "cp_df = df[['Close']]\n",
        "cp_df.head()"
      ],
      "execution_count": null,
      "outputs": []
    },
    {
      "cell_type": "code",
      "metadata": {
        "id": "TzHBlIXPR8Hv"
      },
      "source": [
        "upcoming_days = 50\n",
        "cp_df['Prediction'] = cp_df[['Close']].shift(-upcoming_days)\n",
        "cp_df.head()"
      ],
      "execution_count": null,
      "outputs": []
    },
    {
      "cell_type": "code",
      "metadata": {
        "id": "P12MSj5ISVBi"
      },
      "source": [
        "cp_df.tail(10)"
      ],
      "execution_count": null,
      "outputs": []
    },
    {
      "cell_type": "code",
      "metadata": {
        "id": "KnV_sPZMSfuM"
      },
      "source": [
        "# Create the feature dataset X and convert it to a numpy array and remove the last 'upcoming_days' rows/day\n",
        "X = np.array(cp_df.drop(['Prediction'], 1))[:-upcoming_days]\n",
        "print(X)"
      ],
      "execution_count": null,
      "outputs": []
    },
    {
      "cell_type": "code",
      "metadata": {
        "id": "bkbmPYX4S_2V"
      },
      "source": [
        "# Create the target dataset y and convert in to a numpy array and get all of the target values except the last 'upcoming_days' rows/day\n",
        "y =np.array(cp_df['Prediction'])[:-upcoming_days]\n",
        "print(y)"
      ],
      "execution_count": null,
      "outputs": []
    },
    {
      "cell_type": "code",
      "metadata": {
        "id": "L0C3hJnJd71H"
      },
      "source": [
        "from sklearn.model_selection import train_test_split\n",
        "from sklearn.tree import DecisionTreeRegressor\n",
        "from sklearn.linear_model import LinearRegression"
      ],
      "execution_count": null,
      "outputs": []
    },
    {
      "cell_type": "code",
      "metadata": {
        "id": "EHgIGEKJTi0K"
      },
      "source": [
        "# Split the data into 75% training and 25% testing\n",
        "x_train, x_test, y_train, y_test = train_test_split(X, y, test_size = 0.25)"
      ],
      "execution_count": null,
      "outputs": []
    },
    {
      "cell_type": "code",
      "metadata": {
        "id": "EQkT3MbtT2Mb"
      },
      "source": [
        "# Create the models\n",
        "# Create the Decision tree Regression model\n",
        "tree = DecisionTreeRegressor()\n",
        "tree.fit(x_train, y_train)"
      ],
      "execution_count": null,
      "outputs": []
    },
    {
      "cell_type": "code",
      "metadata": {
        "id": "vzAhoM1IUDvD"
      },
      "source": [
        "# Create the Linear Regression model\n",
        "lr = LinearRegression()\n",
        "lr.fit(x_train, y_train)"
      ],
      "execution_count": null,
      "outputs": []
    },
    {
      "cell_type": "code",
      "metadata": {
        "id": "M5_U3k2-UN2a"
      },
      "source": [
        "# Get the last 'upcoming_days' rows of the feature dataset \n",
        "x_upcoming_days = cp_df.drop(['Prediction'], 1)[:-upcoming_days]\n",
        "x_upcoming_days = x_upcoming_days.tail(upcoming_days)\n",
        "x_upcoming_days = np.array(x_upcoming_days)\n",
        "x_upcoming_days"
      ],
      "execution_count": null,
      "outputs": []
    },
    {
      "cell_type": "code",
      "metadata": {
        "id": "gEnm1Ze_Unyq"
      },
      "source": [
        "# Show the decision tree model predictions\n",
        "tree_prediction = tree.predict(x_upcoming_days)\n",
        "print(tree_prediction)\n",
        "print(\"=========================================================================\")\n",
        "\n",
        "# Show the linear regression predictions\n",
        "lr_prediction = lr.predict(x_upcoming_days)\n",
        "print(lr_prediction)"
      ],
      "execution_count": null,
      "outputs": []
    },
    {
      "cell_type": "code",
      "metadata": {
        "id": "x1mkaZjfX0ng"
      },
      "source": [
        "# Visualize th decision tree model data \n",
        "dtr_predictions = tree_prediction\n",
        "\n",
        "valid = cp_df[X.shape[0]:]\n",
        "valid['Predictions'] = dtr_predictions\n",
        "plt.figure(figsize=(24,8))\n",
        "plt.title(\"Decision Tree Model\")\n",
        "plt.xlabel('No. of Days')\n",
        "plt.ylabel('Close Price in USD')\n",
        "plt.plot(cp_df['Close'])\n",
        "plt.plot(valid[['Close','Predictions']])\n",
        "plt.legend(['Orig', 'Val', 'Pred'])\n",
        "plt.show()"
      ],
      "execution_count": null,
      "outputs": []
    },
    {
      "cell_type": "code",
      "metadata": {
        "id": "8OaBGzVhYlgJ"
      },
      "source": [
        "# Visualize the data for linear regression model\n",
        "linr_predictions = lr_prediction\n",
        "\n",
        "valid = cp_df[X.shape[0]:]\n",
        "valid['Predictions'] = linr_predictions\n",
        "plt.figure(figsize=(24,8))\n",
        "plt.title(\"Tree Model\")\n",
        "plt.xlabel('No. of Days')\n",
        "plt.ylabel('Close Price in USD')\n",
        "plt.plot(cp_df['Close'])\n",
        "plt.plot(valid[['Close','Predictions']])\n",
        "plt.legend(['Orig', 'Val', 'Pred'])\n",
        "plt.show()"
      ],
      "execution_count": null,
      "outputs": []
    },
    {
      "cell_type": "code",
      "metadata": {
        "id": "myNoDoPdZNjq"
      },
      "source": [
        ""
      ],
      "execution_count": null,
      "outputs": []
    },
    {
      "cell_type": "code",
      "metadata": {
        "id": "FT_BMF0oZf05"
      },
      "source": [
        ""
      ],
      "execution_count": null,
      "outputs": []
    },
    {
      "cell_type": "code",
      "metadata": {
        "id": "8P4BeLvTaNCM"
      },
      "source": [
        ""
      ],
      "execution_count": null,
      "outputs": []
    }
  ]
}
